{
  "cells": [
    {
      "cell_type": "markdown",
      "metadata": {
        "id": "view-in-github",
        "colab_type": "text"
      },
      "source": [
        "<a href=\"https://colab.research.google.com/github/hawhigh/NFT-Worlds-Game-Client/blob/master/WebScrapper.ipynb\" target=\"_parent\"><img src=\"https://colab.research.google.com/assets/colab-badge.svg\" alt=\"Open In Colab\"/></a>"
      ]
    },
    {
      "cell_type": "code",
      "execution_count": null,
      "metadata": {
        "id": "foHLQ-BeD0Hr"
      },
      "outputs": [],
      "source": [
        "!git clone https://github.com/nuhmanpk/WebScrapper.git"
      ]
    },
    {
      "cell_type": "code",
      "execution_count": null,
      "metadata": {
        "id": "LiSZd_sKD0Hv"
      },
      "outputs": [],
      "source": [
        "!pip install -r /content/WebScrapper/requirements.txt -qU"
      ]
    },
    {
      "cell_type": "code",
      "execution_count": null,
      "metadata": {
        "id": "c34sPL5VD0Hv"
      },
      "outputs": [],
      "source": [
        "BOT_TOKEN = '6858938168:AAFBrWzifYx2XGSHvKbudGFbL8pDb4WwNP0'\n",
        "API_ID = '23701566'\n",
        "API_HASH = '9d787160a086dce35956ff9523f2add7'\n",
        "CRAWL_LOG_CHANNEL = '' # Channel ID where the Data to be sent"
      ]
    },
    {
      "cell_type": "code",
      "execution_count": null,
      "metadata": {
        "id": "Af0CR9vVD0Hw"
      },
      "outputs": [],
      "source": [
        "with open('.env', 'w') as f:\n",
        "    f.write(f\"BOT_TOKEN={BOT_TOKEN}\\n\")\n",
        "    f.write(f\"API_ID={API_ID}\\n\")\n",
        "    f.write(f\"API_HASH={API_HASH}\\n\")\n",
        "    f.write(f\"CRAWL_LOG_CHANNEL={CRAWL_LOG_CHANNEL}\\n\")"
      ]
    },
    {
      "cell_type": "code",
      "execution_count": null,
      "metadata": {
        "id": "609G5FkwD0Hw"
      },
      "outputs": [],
      "source": [
        "!python3 /content/WebScrapper/main.py"
      ]
    }
  ],
  "metadata": {
    "language_info": {
      "name": "python"
    },
    "colab": {
      "provenance": [],
      "include_colab_link": true
    },
    "kernelspec": {
      "name": "python3",
      "display_name": "Python 3"
    }
  },
  "nbformat": 4,
  "nbformat_minor": 0
}